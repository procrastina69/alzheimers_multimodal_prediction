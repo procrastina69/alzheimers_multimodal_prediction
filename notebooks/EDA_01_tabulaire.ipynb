{
 "cells": [
  {
   "cell_type": "markdown",
   "id": "d1cde2f3",
   "metadata": {},
   "source": [
    "# EDA01 - Linking Brain MRI Images with Clinical Data\n",
    "\n",
    "## Objective\n",
    "\n",
    "The purpose of this notebook is to reconstruct a mapping between : \n",
    "- Brain MRI images (PNG format),\n",
    "- Dementia level labels ,\n",
    "- Patient IDs available in the clinical dataset,\n",
    "\n",
    "This step is used to build a multimodal dataset.\n",
    "\n",
    "## Output\n",
    "\n",
    "A DataFrame name 'df_images' containing:\n",
    "- 'image_path': full path to the MRI slice,\n",
    "- 'patient_ID': extracter from the filename,\n",
    "- 'diagnosis': inferred from folder name\n"
   ]
  },
  {
   "cell_type": "code",
   "execution_count": null,
   "id": "db5dc853",
   "metadata": {},
   "outputs": [],
   "source": [
    "import pandas as pd"
   ]
  },
  {
   "cell_type": "code",
   "execution_count": null,
   "id": "1afd14fc",
   "metadata": {},
   "outputs": [],
   "source": [
    "import os\n",
    "os.chdir(\"..\")  \n"
   ]
  },
  {
   "cell_type": "code",
   "execution_count": null,
   "id": "3e2f811e",
   "metadata": {},
   "outputs": [],
   "source": [
    "df= pd.read_csv(\"data/raw/oasis-cross-sectional.csv\")"
   ]
  },
  {
   "cell_type": "code",
   "execution_count": null,
   "id": "7bd22a6b",
   "metadata": {},
   "outputs": [],
   "source": [
    "df.head()\n"
   ]
  },
  {
   "cell_type": "code",
   "execution_count": null,
   "id": "f3ac1c26",
   "metadata": {},
   "outputs": [],
   "source": [
    "df.info()"
   ]
  },
  {
   "cell_type": "code",
   "execution_count": null,
   "id": "4301f93f",
   "metadata": {},
   "outputs": [],
   "source": [
    "df.describe()"
   ]
  },
  {
   "cell_type": "code",
   "execution_count": null,
   "id": "4013d478",
   "metadata": {},
   "outputs": [],
   "source": [
    "df.columns\n",
    "df.isna().sum()"
   ]
  },
  {
   "cell_type": "code",
   "execution_count": null,
   "id": "b2a14b85",
   "metadata": {},
   "outputs": [],
   "source": [
    "patient_status_record = []"
   ]
  },
  {
   "cell_type": "code",
   "execution_count": null,
   "id": "90c37d94",
   "metadata": {},
   "outputs": [],
   "source": [
    "data_dir = \"data/raw/images\"\n",
    "classes = [\"NonDemented\", \"MildDemented\", \"ModerateDemented\", \"VeryMildDemented\"]"
   ]
  },
  {
   "cell_type": "code",
   "execution_count": null,
   "id": "79f52c12",
   "metadata": {},
   "outputs": [],
   "source": [
    "for label in classes:\n",
    "    folder_path = os.path.join(data_dir, label)\n",
    "    for filename in os.listdir(folder_path):\n",
    "        if (filename.endswith(\".png\")):\n",
    "            patient_ID =filename.split(\"_MR\")[0]\n",
    "            fullpath = os.path.join(folder_path, filename)\n",
    "            patient_status_record.append({\n",
    "                \"patient_ID\" : patient_ID,\n",
    "                \"image_path\" : fullpath,\n",
    "                \"diagnonsis\" : label\n",
    "            })\n",
    "\n",
    "print(f\" Total d’images collectées : {len(df_images)}\")\n",
    "df_images.head()"
   ]
  },
  {
   "cell_type": "code",
   "execution_count": null,
   "id": "1997e4ca",
   "metadata": {},
   "outputs": [],
   "source": [
    "df_images.head()"
   ]
  },
  {
   "cell_type": "code",
   "execution_count": null,
   "id": "b16d5b8a",
   "metadata": {},
   "outputs": [],
   "source": [
    "df_merged = pd.merge(df_images,df, left_on=\"patient_ID\", right_on=\"ID\", how=\"inner\")\n",
    "print(\"Taille fusionnée : \", df_merged.shape)"
   ]
  },
  {
   "cell_type": "code",
   "execution_count": null,
   "id": "93ff872a",
   "metadata": {},
   "outputs": [],
   "source": [
    "df[\"ID\"] = df[\"ID\"].str.split(\"_MR\").str[0]"
   ]
  },
  {
   "cell_type": "code",
   "execution_count": null,
   "id": "02e24709",
   "metadata": {},
   "outputs": [],
   "source": [
    "df_merged.head()"
   ]
  },
  {
   "cell_type": "code",
   "execution_count": null,
   "id": "fc052474",
   "metadata": {},
   "outputs": [],
   "source": []
  }
 ],
 "metadata": {
  "kernelspec": {
   "display_name": "Python 3",
   "language": "python",
   "name": "python3"
  },
  "language_info": {
   "codemirror_mode": {
    "name": "ipython",
    "version": 3
   },
   "file_extension": ".py",
   "mimetype": "text/x-python",
   "name": "python",
   "nbconvert_exporter": "python",
   "pygments_lexer": "ipython3",
   "version": "3.9.15"
  }
 },
 "nbformat": 4,
 "nbformat_minor": 5
}
